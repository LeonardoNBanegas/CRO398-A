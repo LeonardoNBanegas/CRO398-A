{
  "nbformat": 4,
  "nbformat_minor": 0,
  "metadata": {
    "colab": {
      "provenance": [],
      "authorship_tag": "ABX9TyPeeR7GyeY2nXy/7q75KzOz",
      "include_colab_link": true
    },
    "kernelspec": {
      "name": "python3",
      "display_name": "Python 3"
    },
    "language_info": {
      "name": "python"
    }
  },
  "cells": [
    {
      "cell_type": "markdown",
      "metadata": {
        "id": "view-in-github",
        "colab_type": "text"
      },
      "source": [
        "<a href=\"https://colab.research.google.com/github/LeonardoNBanegas/CRO398-A/blob/main/CRO398_A_LEONARDO_BANEGAS.ipynb\" target=\"_parent\"><img src=\"https://colab.research.google.com/assets/colab-badge.svg\" alt=\"Open In Colab\"/></a>"
      ]
    },
    {
      "cell_type": "code",
      "execution_count": 29,
      "metadata": {
        "colab": {
          "base_uri": "https://localhost:8080/",
          "height": 73
        },
        "id": "EK8VkgPvftcU",
        "outputId": "7e9f9534-5e8d-4bc9-abff-9382aec924ae"
      },
      "outputs": [
        {
          "output_type": "display_data",
          "data": {
            "text/plain": [
              "<IPython.core.display.HTML object>"
            ],
            "text/html": [
              "\n",
              "     <input type=\"file\" id=\"files-ed8fd110-7424-4fd3-a795-0e16adc2713d\" name=\"files[]\" multiple disabled\n",
              "        style=\"border:none\" />\n",
              "     <output id=\"result-ed8fd110-7424-4fd3-a795-0e16adc2713d\">\n",
              "      Upload widget is only available when the cell has been executed in the\n",
              "      current browser session. Please rerun this cell to enable.\n",
              "      </output>\n",
              "      <script>// Copyright 2017 Google LLC\n",
              "//\n",
              "// Licensed under the Apache License, Version 2.0 (the \"License\");\n",
              "// you may not use this file except in compliance with the License.\n",
              "// You may obtain a copy of the License at\n",
              "//\n",
              "//      http://www.apache.org/licenses/LICENSE-2.0\n",
              "//\n",
              "// Unless required by applicable law or agreed to in writing, software\n",
              "// distributed under the License is distributed on an \"AS IS\" BASIS,\n",
              "// WITHOUT WARRANTIES OR CONDITIONS OF ANY KIND, either express or implied.\n",
              "// See the License for the specific language governing permissions and\n",
              "// limitations under the License.\n",
              "\n",
              "/**\n",
              " * @fileoverview Helpers for google.colab Python module.\n",
              " */\n",
              "(function(scope) {\n",
              "function span(text, styleAttributes = {}) {\n",
              "  const element = document.createElement('span');\n",
              "  element.textContent = text;\n",
              "  for (const key of Object.keys(styleAttributes)) {\n",
              "    element.style[key] = styleAttributes[key];\n",
              "  }\n",
              "  return element;\n",
              "}\n",
              "\n",
              "// Max number of bytes which will be uploaded at a time.\n",
              "const MAX_PAYLOAD_SIZE = 100 * 1024;\n",
              "\n",
              "function _uploadFiles(inputId, outputId) {\n",
              "  const steps = uploadFilesStep(inputId, outputId);\n",
              "  const outputElement = document.getElementById(outputId);\n",
              "  // Cache steps on the outputElement to make it available for the next call\n",
              "  // to uploadFilesContinue from Python.\n",
              "  outputElement.steps = steps;\n",
              "\n",
              "  return _uploadFilesContinue(outputId);\n",
              "}\n",
              "\n",
              "// This is roughly an async generator (not supported in the browser yet),\n",
              "// where there are multiple asynchronous steps and the Python side is going\n",
              "// to poll for completion of each step.\n",
              "// This uses a Promise to block the python side on completion of each step,\n",
              "// then passes the result of the previous step as the input to the next step.\n",
              "function _uploadFilesContinue(outputId) {\n",
              "  const outputElement = document.getElementById(outputId);\n",
              "  const steps = outputElement.steps;\n",
              "\n",
              "  const next = steps.next(outputElement.lastPromiseValue);\n",
              "  return Promise.resolve(next.value.promise).then((value) => {\n",
              "    // Cache the last promise value to make it available to the next\n",
              "    // step of the generator.\n",
              "    outputElement.lastPromiseValue = value;\n",
              "    return next.value.response;\n",
              "  });\n",
              "}\n",
              "\n",
              "/**\n",
              " * Generator function which is called between each async step of the upload\n",
              " * process.\n",
              " * @param {string} inputId Element ID of the input file picker element.\n",
              " * @param {string} outputId Element ID of the output display.\n",
              " * @return {!Iterable<!Object>} Iterable of next steps.\n",
              " */\n",
              "function* uploadFilesStep(inputId, outputId) {\n",
              "  const inputElement = document.getElementById(inputId);\n",
              "  inputElement.disabled = false;\n",
              "\n",
              "  const outputElement = document.getElementById(outputId);\n",
              "  outputElement.innerHTML = '';\n",
              "\n",
              "  const pickedPromise = new Promise((resolve) => {\n",
              "    inputElement.addEventListener('change', (e) => {\n",
              "      resolve(e.target.files);\n",
              "    });\n",
              "  });\n",
              "\n",
              "  const cancel = document.createElement('button');\n",
              "  inputElement.parentElement.appendChild(cancel);\n",
              "  cancel.textContent = 'Cancel upload';\n",
              "  const cancelPromise = new Promise((resolve) => {\n",
              "    cancel.onclick = () => {\n",
              "      resolve(null);\n",
              "    };\n",
              "  });\n",
              "\n",
              "  // Wait for the user to pick the files.\n",
              "  const files = yield {\n",
              "    promise: Promise.race([pickedPromise, cancelPromise]),\n",
              "    response: {\n",
              "      action: 'starting',\n",
              "    }\n",
              "  };\n",
              "\n",
              "  cancel.remove();\n",
              "\n",
              "  // Disable the input element since further picks are not allowed.\n",
              "  inputElement.disabled = true;\n",
              "\n",
              "  if (!files) {\n",
              "    return {\n",
              "      response: {\n",
              "        action: 'complete',\n",
              "      }\n",
              "    };\n",
              "  }\n",
              "\n",
              "  for (const file of files) {\n",
              "    const li = document.createElement('li');\n",
              "    li.append(span(file.name, {fontWeight: 'bold'}));\n",
              "    li.append(span(\n",
              "        `(${file.type || 'n/a'}) - ${file.size} bytes, ` +\n",
              "        `last modified: ${\n",
              "            file.lastModifiedDate ? file.lastModifiedDate.toLocaleDateString() :\n",
              "                                    'n/a'} - `));\n",
              "    const percent = span('0% done');\n",
              "    li.appendChild(percent);\n",
              "\n",
              "    outputElement.appendChild(li);\n",
              "\n",
              "    const fileDataPromise = new Promise((resolve) => {\n",
              "      const reader = new FileReader();\n",
              "      reader.onload = (e) => {\n",
              "        resolve(e.target.result);\n",
              "      };\n",
              "      reader.readAsArrayBuffer(file);\n",
              "    });\n",
              "    // Wait for the data to be ready.\n",
              "    let fileData = yield {\n",
              "      promise: fileDataPromise,\n",
              "      response: {\n",
              "        action: 'continue',\n",
              "      }\n",
              "    };\n",
              "\n",
              "    // Use a chunked sending to avoid message size limits. See b/62115660.\n",
              "    let position = 0;\n",
              "    do {\n",
              "      const length = Math.min(fileData.byteLength - position, MAX_PAYLOAD_SIZE);\n",
              "      const chunk = new Uint8Array(fileData, position, length);\n",
              "      position += length;\n",
              "\n",
              "      const base64 = btoa(String.fromCharCode.apply(null, chunk));\n",
              "      yield {\n",
              "        response: {\n",
              "          action: 'append',\n",
              "          file: file.name,\n",
              "          data: base64,\n",
              "        },\n",
              "      };\n",
              "\n",
              "      let percentDone = fileData.byteLength === 0 ?\n",
              "          100 :\n",
              "          Math.round((position / fileData.byteLength) * 100);\n",
              "      percent.textContent = `${percentDone}% done`;\n",
              "\n",
              "    } while (position < fileData.byteLength);\n",
              "  }\n",
              "\n",
              "  // All done.\n",
              "  yield {\n",
              "    response: {\n",
              "      action: 'complete',\n",
              "    }\n",
              "  };\n",
              "}\n",
              "\n",
              "scope.google = scope.google || {};\n",
              "scope.google.colab = scope.google.colab || {};\n",
              "scope.google.colab._files = {\n",
              "  _uploadFiles,\n",
              "  _uploadFilesContinue,\n",
              "};\n",
              "})(self);\n",
              "</script> "
            ]
          },
          "metadata": {}
        },
        {
          "output_type": "stream",
          "name": "stdout",
          "text": [
            "Saving CRO398-A.csv to CRO398-A (1).csv\n"
          ]
        }
      ],
      "source": [
        "from google.colab import files\n",
        "uploaded = files.upload()  # abrir una ventana para seleccionar el archivo de mi pc\n"
      ]
    },
    {
      "cell_type": "code",
      "source": [
        "import pandas as pd\n",
        "\n",
        "# Cargar el archivo CSV\n",
        "df = pd.read_csv('CRO398-A.csv')\n",
        "\n",
        "# Mostrar las primeras filas\n",
        "print(df.head())\n",
        "\n",
        "# Ver el tamaño del dataset\n",
        "print(df.shape)\n"
      ],
      "metadata": {
        "colab": {
          "base_uri": "https://localhost:8080/"
        },
        "id": "_mb7_ZXqo9a3",
        "outputId": "7718d954-6a1c-4fd2-faef-67ded233a835"
      },
      "execution_count": 30,
      "outputs": [
        {
          "output_type": "stream",
          "name": "stdout",
          "text": [
            "                                                                                                                                                                                                                                                                                                                                                                                                      sep=  \\\n",
            "Row Number MAC Address       Channel Name                      Partial Service Frequency (MHz) Modulation Status Tx Power (dBmV) Rx Power (dBmV) Attenuation (dB) MER (dB) SNR (dB) SNR Deviation (σ) CCER+CER (%) CER (%) Spectral Response (dB) Composite Equalization [NMTER] (dB) Group Response [PREMTTER] (dB) Echo Response [POSTMTTER] (dB) Deviation of Echo Response (σ)   Latest Proactive Scan   \n",
            "1          44:D4:54:B7:4D:34 Integrated-Cable1/0/3-downstream0 none            603             QAM-256    Online NaN             3.8             NaN              39.3     39.4     0.2               0.0000       0.0000  28.0                   NaN                                 NaN                            NaN                            NaN                             10/16/2024, 7:25:13 PM   \n",
            "2          44:D4:54:B7:4D:34 Integrated-Cable1/0/3-downstream1 none            609             QAM-256    Online NaN             3.9             NaN              39.4     39.4     0.2               0.0000       0.0000  33.0                   NaN                                 NaN                            NaN                            NaN                             10/16/2024, 7:25:13 PM   \n",
            "3          44:D4:54:B7:4D:34 Integrated-Cable1/0/3-downstream2 none            615             QAM-256    Online NaN             3.6             NaN              39.3     39.3     0.2               0.0000       0.0000  35.0                   NaN                                 NaN                            NaN                            NaN                             10/16/2024, 7:25:13 PM   \n",
            "4          44:D4:54:B7:4D:34 Integrated-Cable1/0/3-downstream3 none            621             QAM-256    Online NaN             3.6             NaN              39.3     39.4     0.2               0.0000       0.0000  30.0                   NaN                                 NaN                            NaN                            NaN                             10/16/2024, 7:25:13 PM   \n",
            "\n",
            "                                                                                                                                                                                                                                                                                                                                                                                                Unnamed: 1  \n",
            "Row Number MAC Address       Channel Name                      Partial Service Frequency (MHz) Modulation Status Tx Power (dBmV) Rx Power (dBmV) Attenuation (dB) MER (dB) SNR (dB) SNR Deviation (σ) CCER+CER (%) CER (%) Spectral Response (dB) Composite Equalization [NMTER] (dB) Group Response [PREMTTER] (dB) Echo Response [POSTMTTER] (dB) Deviation of Echo Response (σ)      Latest Outage Scan  \n",
            "1          44:D4:54:B7:4D:34 Integrated-Cable1/0/3-downstream0 none            603             QAM-256    Online NaN             3.8             NaN              39.3     39.4     0.2               0.0000       0.0000  28.0                   NaN                                 NaN                            NaN                            NaN                             10/16/2024, 7:25:13 PM  \n",
            "2          44:D4:54:B7:4D:34 Integrated-Cable1/0/3-downstream1 none            609             QAM-256    Online NaN             3.9             NaN              39.4     39.4     0.2               0.0000       0.0000  33.0                   NaN                                 NaN                            NaN                            NaN                             10/16/2024, 7:25:13 PM  \n",
            "3          44:D4:54:B7:4D:34 Integrated-Cable1/0/3-downstream2 none            615             QAM-256    Online NaN             3.6             NaN              39.3     39.3     0.2               0.0000       0.0000  35.0                   NaN                                 NaN                            NaN                            NaN                             10/16/2024, 7:25:13 PM  \n",
            "4          44:D4:54:B7:4D:34 Integrated-Cable1/0/3-downstream3 none            621             QAM-256    Online NaN             3.6             NaN              39.3     39.4     0.2               0.0000       0.0000  30.0                   NaN                                 NaN                            NaN                            NaN                             10/16/2024, 7:25:13 PM  \n",
            "(4869, 2)\n"
          ]
        }
      ]
    },
    {
      "cell_type": "code",
      "source": [
        "# Mostrar los nombres de todas las columnas en el DataFrame\n",
        "print(df.columns)\n"
      ],
      "metadata": {
        "colab": {
          "base_uri": "https://localhost:8080/"
        },
        "id": "PdjbRh1zpKP-",
        "outputId": "cd34e300-ebf1-46b3-f862-c0dc50d2c5ab"
      },
      "execution_count": 32,
      "outputs": [
        {
          "output_type": "stream",
          "name": "stdout",
          "text": [
            "Index(['sep=', 'Unnamed: 1'], dtype='object')\n"
          ]
        }
      ]
    }
  ]
}